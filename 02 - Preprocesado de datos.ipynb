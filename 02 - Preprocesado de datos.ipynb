{
  "cells": [
    {
      "cell_type": "markdown",
      "metadata": {
        "id": "69a610c5"
      },
      "source": [
        "<a href=\"https://githubtocolab.com/juanDev-47/IA-project/blob/main/02%20-%20Preprocesado%20de%20datos.ipynb\" target=\"_parent\"><img src=\"https://colab.research.google.com/assets/colab-badge.svg\" alt=\"Open in Colab\"/></a>"
      ]
    },
    {
      "cell_type": "code",
      "execution_count": 1,
      "metadata": {
        "id": "YGIR4C9AW1Wg"
      },
      "outputs": [],
      "source": [
        "import numpy as np\n",
        "import pandas as pd\n",
        "import seaborn as sns\n",
        "import matplotlib.pyplot as plt\n",
        "import missingno as msno\n",
        "#bibliotecas de machine learning\n",
        "from sklearn.linear_model import LinearRegression\n",
        "from sklearn.tree import DecisionTreeRegressor\n",
        "from sklearn.ensemble import RandomForestRegressor\n",
        "from sklearn.model_selection import cross_validate, ShuffleSplit\n",
        "\n",
        "from sklearn.model_selection import learning_curve\n",
        "from sklearn.metrics import mean_squared_error\n",
        "from sklearn.impute import SimpleImputer\n",
        "from sklearn.preprocessing import OneHotEncoder\n",
        "from sklearn.preprocessing import FunctionTransformer\n",
        "from sklearn.pipeline import Pipeline\n",
        "from sklearn.compose import ColumnTransformer\n",
        "from sklearn.preprocessing import LabelEncoder\n",
        "from sklearn import utils\n",
        "from sklearn import preprocessing\n",
        "from sklearn.model_selection import train_test_split,KFold,GroupKFold\n",
        "import lightgbm as lgb\n",
        "import gc"
      ]
    },
    {
      "cell_type": "code",
      "execution_count": 2,
      "metadata": {
        "id": "l9NyYU-ZRCf1"
      },
      "outputs": [],
      "source": [
        "# install kaggle\n",
        "!pip install -q kaggle"
      ]
    },
    {
      "cell_type": "code",
      "execution_count": 3,
      "metadata": {
        "colab": {
          "base_uri": "https://localhost:8080/",
          "height": 90,
          "resources": {
            "http://localhost:8080/nbextensions/google.colab/files.js": {
              "data": "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",
              "headers": [
                [
                  "content-type",
                  "application/javascript"
                ]
              ],
              "ok": true,
              "status": 200,
              "status_text": ""
            }
          }
        },
        "id": "dz7uFFvgRLTI",
        "outputId": "49379b2e-e8b6-4e74-8ec3-7c7f110dbd26"
      },
      "outputs": [
        {
          "data": {
            "text/html": [
              "\n",
              "     <input type=\"file\" id=\"files-2a7b7706-beb3-44a3-9372-740099f7480d\" name=\"files[]\" multiple disabled\n",
              "        style=\"border:none\" />\n",
              "     <output id=\"result-2a7b7706-beb3-44a3-9372-740099f7480d\">\n",
              "      Upload widget is only available when the cell has been executed in the\n",
              "      current browser session. Please rerun this cell to enable.\n",
              "      </output>\n",
              "      <script src=\"/nbextensions/google.colab/files.js\"></script> "
            ],
            "text/plain": [
              "<IPython.core.display.HTML object>"
            ]
          },
          "metadata": {},
          "output_type": "display_data"
        },
        {
          "name": "stdout",
          "output_type": "stream",
          "text": [
            "Saving kaggle.json to kaggle.json\n"
          ]
        },
        {
          "data": {
            "text/plain": [
              "{'kaggle.json': b'{\"username\":\"juanpabloarenasvlez\",\"key\":\"5a3c067016d90c54fa052baee280fa72\"}'}"
            ]
          },
          "execution_count": 3,
          "metadata": {},
          "output_type": "execute_result"
        }
      ],
      "source": [
        "from google.colab import files\n",
        "files.upload()"
      ]
    },
    {
      "cell_type": "code",
      "execution_count": 4,
      "metadata": {
        "id": "7F9Zn8BfSAvc"
      },
      "outputs": [],
      "source": [
        "# create a kaggle folder\n",
        "! mkdir ~/.kaggle"
      ]
    },
    {
      "cell_type": "code",
      "execution_count": 5,
      "metadata": {
        "id": "w-eSv_8hSV0F"
      },
      "outputs": [],
      "source": [
        "# copy the kaggle.json to folder created\n",
        "! cp kaggle.json ~/.kaggle/"
      ]
    },
    {
      "cell_type": "code",
      "execution_count": 6,
      "metadata": {
        "id": "49RQI1nHSxck"
      },
      "outputs": [],
      "source": [
        "# permission for the json to act\n",
        "! chmod 600 ~/.kaggle/kaggle.json"
      ]
    },
    {
      "cell_type": "code",
      "execution_count": 7,
      "metadata": {
        "colab": {
          "base_uri": "https://localhost:8080/"
        },
        "id": "coCCZ_AmTCB8",
        "outputId": "5a7595ed-361c-41e8-85c0-a137a8e26171"
      },
      "outputs": [
        {
          "name": "stdout",
          "output_type": "stream",
          "text": [
            "ref                                                    title                                             size  lastUpdated          downloadCount  voteCount  usabilityRating  \n",
            "-----------------------------------------------------  -----------------------------------------------  -----  -------------------  -------------  ---------  ---------------  \n",
            "deepcontractor/mcdonalds-india-menu-nutrition-facts    McDonald's India : Menu Nutrition Dataset          5KB  2022-07-28 17:08:52           2419        118  0.9411765        \n",
            "iamsouravbanerjee/house-rent-prediction-dataset        House Rent Prediction Dataset                     82KB  2022-08-20 13:49:03           2452        101  1.0              \n",
            "arianazmoudeh/airbnbopendata                           Airbnb Open Data                                  10MB  2022-08-01 15:58:10           1678         59  0.9705882        \n",
            "ericsims/world-cheese-awards-worlds-cheesiest-dataset  World Cheese Awards (World's Cheesiest Dataset)   49KB  2022-08-17 03:11:43            256         27  1.0              \n",
            "tarundalal/100-richest-people-in-world                 100 Richest People In World                        3KB  2022-08-17 14:30:02            258         28  1.0              \n",
            "adhithyasrinivasan/worldwide-monkeypox-daily-dataset   Worldwide Monkeypox Daily Dataset                 30KB  2022-08-14 12:11:01            387         24  0.9411765        \n",
            "debashis74017/stock-market-index-data-india-1990-2022  Stock Market Index Data India (1990 - 2022)        2MB  2022-08-21 19:53:27            427         21  1.0              \n",
            "infamouscoder/dataset-netflix-shows                    Dataset: NetFlix Shows                             1MB  2022-08-11 05:05:41            774         43  1.0              \n",
            "himanshunakrani/student-study-hours                    Student Study Hours                               276B  2022-07-20 13:17:29           2554         81  1.0              \n",
            "vanvalkenberg/historicalweatherdataforindiancities     Weather data Indian cities (1990 to 2022)        504KB  2022-07-29 11:13:42            710         32  1.0              \n",
            "ruchi798/data-science-job-salaries                     Data Science Job Salaries                          7KB  2022-06-15 08:59:12          23118        704  1.0              \n",
            "vencerlanz09/monkeypox-tweets                          Monkeypox Tweets                                   3MB  2022-08-22 15:42:00            135         22  1.0              \n",
            "ashvanths/toprated-tmdb-movies                         Top-Rated TMDB Movies                              1MB  2022-08-15 06:49:17            531         29  1.0              \n",
            "dansbecker/melbourne-housing-snapshot                  Melbourne Housing Snapshot                       451KB  2018-06-05 12:52:24          93580       1126  0.7058824        \n",
            "reihanenamdari/breast-cancer                           Breast Cancer                                     43KB  2022-08-08 19:25:55            655         36  1.0              \n",
            "zzettrkalpakbal/full-filled-brain-stroke-dataset       Brain stroke prediction dataset                   52KB  2022-07-16 09:57:08           2879         81  0.9705882        \n",
            "tigboatnc/amazon-all-categories-best-sellers-reviews   Amazon All Categories Best Sellers + Reviews       3MB  2022-08-10 00:26:09            655         25  1.0              \n",
            "nancyalaswad90/diamonds-prices                         Diamonds Prices                                  711KB  2022-07-09 14:59:21           2823        113  1.0              \n",
            "datasnaek/youtube-new                                  Trending YouTube Video Statistics                201MB  2019-06-03 00:56:47         183038       4641  0.7941176        \n",
            "surajjha101/countries-olympics-medals-since-1896       Countries Olympics Medals since 1896               4KB  2022-07-27 06:39:06           1187         57  1.0              \n"
          ]
        }
      ],
      "source": [
        "# to list all datasets in kaggle\n",
        "! kaggle datasets list"
      ]
    },
    {
      "cell_type": "code",
      "execution_count": 8,
      "metadata": {
        "colab": {
          "base_uri": "https://localhost:8080/"
        },
        "id": "ZKKBiFY_UJeo",
        "outputId": "ccd2451d-8e13-40f8-c708-1865b007af14"
      },
      "outputs": [
        {
          "name": "stdout",
          "output_type": "stream",
          "text": [
            "Downloading cancer.zip to /content\n",
            "\r  0% 0.00/7.84M [00:00<?, ?B/s]\r 64% 5.00M/7.84M [00:00<00:00, 40.3MB/s]\n",
            "\r100% 7.84M/7.84M [00:00<00:00, 58.4MB/s]\n"
          ]
        }
      ],
      "source": [
        "!kaggle datasets download -d programmerrdai/cancer"
      ]
    },
    {
      "cell_type": "code",
      "execution_count": 9,
      "metadata": {
        "colab": {
          "base_uri": "https://localhost:8080/"
        },
        "id": "0Gt1rMzSi_JZ",
        "outputId": "b3522765-6785-4475-8b01-92735364aeaf"
      },
      "outputs": [
        {
          "name": "stdout",
          "output_type": "stream",
          "text": [
            "Archive:  cancer.zip\n",
            "  inflating: annual-number-of-deaths-by-cause.csv  \n",
            "  inflating: breast-cancer-survival-rates-vs-gdp-per-capita.csv  \n",
            "  inflating: cancer-death-rates-by-age.csv  \n",
            "  inflating: cancer-death-rates-by-type.csv  \n",
            "  inflating: cancer-death-rates-in-the-us.csv  \n",
            "  inflating: cancer-death-rates.csv  \n",
            "  inflating: cancer-deaths-by-age.csv  \n",
            "  inflating: cancer-deaths-by-type-grouped.csv  \n",
            "  inflating: cancer-deaths-rate-and-age-standardized-rate-index.csv  \n",
            "  inflating: death-rate-from-cancers-vs-average-income.csv  \n",
            "  inflating: disease-burden-rates-by-cancer-types.csv  \n",
            "  inflating: disease-burden-rates-from-cancers.csv  \n",
            "  inflating: five-year-survival-rate-from-liver-cancer.csv  \n",
            "  inflating: five-year-survival-rates-by-cancer-type.csv  \n",
            "  inflating: five-year-survival-rates-from-breast-cancer.csv  \n",
            "  inflating: five-year-survival-rates-from-lung-cancer.csv  \n",
            "  inflating: lung-cancer-deaths-per-100000-by-sex-1950-2002.csv  \n",
            "  inflating: lung-cancer-survival-rate-vs-gdp.csv  \n",
            "  inflating: number-of-people-with-cancer-by-age.csv  \n",
            "  inflating: sales-of-cigarettes-per-adult-per-day.csv  \n",
            "  inflating: share-of-cancer-deaths-attributed-to-risk-factors.csv  \n",
            "  inflating: share-of-cancer-deaths-attributed-to-tobacco.csv  \n",
            "  inflating: share-of-population-with-cancer-by-age.csv  \n",
            "  inflating: share-of-population-with-cancer-types.csv  \n",
            "  inflating: share-of-population-with-cancer.csv  \n",
            "  inflating: total-cancer-deaths-by-type.csv  \n"
          ]
        }
      ],
      "source": [
        "!unzip cancer.zip"
      ]
    },
    {
      "cell_type": "code",
      "execution_count": null,
      "metadata": {
        "id": "Ue50_c4Z023J"
      },
      "outputs": [],
      "source": []
    },
    {
      "cell_type": "markdown",
      "metadata": {
        "id": "ncMuvaYjNWNw"
      },
      "source": [
        "## 1. Lectura y carga del dataset"
      ]
    },
    {
      "cell_type": "code",
      "execution_count": 22,
      "metadata": {
        "id": "3nH72qZbNgY0"
      },
      "outputs": [],
      "source": [
        "# upload data\n",
        "cancer_data = pd.read_csv(\"annual-number-of-deaths-by-cause.csv\")"
      ]
    },
    {
      "cell_type": "code",
      "execution_count": 11,
      "metadata": {
        "colab": {
          "base_uri": "https://localhost:8080/",
          "height": 661
        },
        "id": "_fjQTHkKjeRt",
        "outputId": "687d4ac2-2df5-423b-8d3a-56a5413eec7c"
      },
      "outputs": [
        {
          "data": {
            "text/html": [
              "\n",
              "  <div id=\"df-16833f86-a24d-430f-bf23-8f2357555063\">\n",
              "    <div class=\"colab-df-container\">\n",
              "      <div>\n",
              "<style scoped>\n",
              "    .dataframe tbody tr th:only-of-type {\n",
              "        vertical-align: middle;\n",
              "    }\n",
              "\n",
              "    .dataframe tbody tr th {\n",
              "        vertical-align: top;\n",
              "    }\n",
              "\n",
              "    .dataframe thead th {\n",
              "        text-align: right;\n",
              "    }\n",
              "</style>\n",
              "<table border=\"1\" class=\"dataframe\">\n",
              "  <thead>\n",
              "    <tr style=\"text-align: right;\">\n",
              "      <th></th>\n",
              "      <th>Entity</th>\n",
              "      <th>Code</th>\n",
              "      <th>Year</th>\n",
              "      <th>Number of executions (Amnesty International)</th>\n",
              "      <th>Deaths - Meningitis - Sex: Both - Age: All Ages (Number)</th>\n",
              "      <th>Deaths - Alzheimer's disease and other dementias - Sex: Both - Age: All Ages (Number)</th>\n",
              "      <th>Deaths - Parkinson's disease - Sex: Both - Age: All Ages (Number)</th>\n",
              "      <th>Deaths - Nutritional deficiencies - Sex: Both - Age: All Ages (Number)</th>\n",
              "      <th>Deaths - Malaria - Sex: Both - Age: All Ages (Number)</th>\n",
              "      <th>Deaths - Drowning - Sex: Both - Age: All Ages (Number)</th>\n",
              "      <th>...</th>\n",
              "      <th>Deaths - Chronic kidney disease - Sex: Both - Age: All Ages (Number)</th>\n",
              "      <th>Deaths - Poisonings - Sex: Both - Age: All Ages (Number)</th>\n",
              "      <th>Deaths - Protein-energy malnutrition - Sex: Both - Age: All Ages (Number)</th>\n",
              "      <th>Terrorism (deaths)</th>\n",
              "      <th>Deaths - Road injuries - Sex: Both - Age: All Ages (Number)</th>\n",
              "      <th>Deaths - Chronic respiratory diseases - Sex: Both - Age: All Ages (Number)</th>\n",
              "      <th>Deaths - Cirrhosis and other chronic liver diseases - Sex: Both - Age: All Ages (Number)</th>\n",
              "      <th>Deaths - Digestive diseases - Sex: Both - Age: All Ages (Number)</th>\n",
              "      <th>Deaths - Fire, heat, and hot substances - Sex: Both - Age: All Ages (Number)</th>\n",
              "      <th>Deaths - Acute hepatitis - Sex: Both - Age: All Ages (Number)</th>\n",
              "    </tr>\n",
              "  </thead>\n",
              "  <tbody>\n",
              "    <tr>\n",
              "      <th>0</th>\n",
              "      <td>Afghanistan</td>\n",
              "      <td>AFG</td>\n",
              "      <td>2007</td>\n",
              "      <td>15</td>\n",
              "      <td>2933.0</td>\n",
              "      <td>1402.0</td>\n",
              "      <td>450.0</td>\n",
              "      <td>2488.0</td>\n",
              "      <td>393.0</td>\n",
              "      <td>2127.0</td>\n",
              "      <td>...</td>\n",
              "      <td>4490.0</td>\n",
              "      <td>513.0</td>\n",
              "      <td>2439.0</td>\n",
              "      <td>1199.0</td>\n",
              "      <td>7425.0</td>\n",
              "      <td>7222.0</td>\n",
              "      <td>3346.0</td>\n",
              "      <td>6458.0</td>\n",
              "      <td>481.0</td>\n",
              "      <td>3437.0</td>\n",
              "    </tr>\n",
              "    <tr>\n",
              "      <th>1</th>\n",
              "      <td>Afghanistan</td>\n",
              "      <td>AFG</td>\n",
              "      <td>2008</td>\n",
              "      <td>17</td>\n",
              "      <td>2731.0</td>\n",
              "      <td>1424.0</td>\n",
              "      <td>455.0</td>\n",
              "      <td>2277.0</td>\n",
              "      <td>255.0</td>\n",
              "      <td>1973.0</td>\n",
              "      <td>...</td>\n",
              "      <td>4534.0</td>\n",
              "      <td>495.0</td>\n",
              "      <td>2231.0</td>\n",
              "      <td>1092.0</td>\n",
              "      <td>7355.0</td>\n",
              "      <td>7143.0</td>\n",
              "      <td>3316.0</td>\n",
              "      <td>6408.0</td>\n",
              "      <td>462.0</td>\n",
              "      <td>3005.0</td>\n",
              "    </tr>\n",
              "    <tr>\n",
              "      <th>2</th>\n",
              "      <td>Afghanistan</td>\n",
              "      <td>AFG</td>\n",
              "      <td>2009</td>\n",
              "      <td>0</td>\n",
              "      <td>2460.0</td>\n",
              "      <td>1449.0</td>\n",
              "      <td>460.0</td>\n",
              "      <td>2040.0</td>\n",
              "      <td>239.0</td>\n",
              "      <td>1852.0</td>\n",
              "      <td>...</td>\n",
              "      <td>4597.0</td>\n",
              "      <td>483.0</td>\n",
              "      <td>1998.0</td>\n",
              "      <td>1065.0</td>\n",
              "      <td>7290.0</td>\n",
              "      <td>7045.0</td>\n",
              "      <td>3291.0</td>\n",
              "      <td>6358.0</td>\n",
              "      <td>448.0</td>\n",
              "      <td>2663.0</td>\n",
              "    </tr>\n",
              "    <tr>\n",
              "      <th>3</th>\n",
              "      <td>Afghanistan</td>\n",
              "      <td>AFG</td>\n",
              "      <td>2011</td>\n",
              "      <td>2</td>\n",
              "      <td>2327.0</td>\n",
              "      <td>1508.0</td>\n",
              "      <td>473.0</td>\n",
              "      <td>1846.0</td>\n",
              "      <td>390.0</td>\n",
              "      <td>1775.0</td>\n",
              "      <td>...</td>\n",
              "      <td>4785.0</td>\n",
              "      <td>483.0</td>\n",
              "      <td>1805.0</td>\n",
              "      <td>1525.0</td>\n",
              "      <td>7432.0</td>\n",
              "      <td>6916.0</td>\n",
              "      <td>3318.0</td>\n",
              "      <td>6370.0</td>\n",
              "      <td>448.0</td>\n",
              "      <td>2365.0</td>\n",
              "    </tr>\n",
              "    <tr>\n",
              "      <th>4</th>\n",
              "      <td>Afghanistan</td>\n",
              "      <td>AFG</td>\n",
              "      <td>2012</td>\n",
              "      <td>14</td>\n",
              "      <td>2254.0</td>\n",
              "      <td>1544.0</td>\n",
              "      <td>482.0</td>\n",
              "      <td>1705.0</td>\n",
              "      <td>94.0</td>\n",
              "      <td>1716.0</td>\n",
              "      <td>...</td>\n",
              "      <td>4846.0</td>\n",
              "      <td>482.0</td>\n",
              "      <td>1667.0</td>\n",
              "      <td>3521.0</td>\n",
              "      <td>7494.0</td>\n",
              "      <td>6878.0</td>\n",
              "      <td>3353.0</td>\n",
              "      <td>6398.0</td>\n",
              "      <td>445.0</td>\n",
              "      <td>2264.0</td>\n",
              "    </tr>\n",
              "    <tr>\n",
              "      <th>...</th>\n",
              "      <td>...</td>\n",
              "      <td>...</td>\n",
              "      <td>...</td>\n",
              "      <td>...</td>\n",
              "      <td>...</td>\n",
              "      <td>...</td>\n",
              "      <td>...</td>\n",
              "      <td>...</td>\n",
              "      <td>...</td>\n",
              "      <td>...</td>\n",
              "      <td>...</td>\n",
              "      <td>...</td>\n",
              "      <td>...</td>\n",
              "      <td>...</td>\n",
              "      <td>...</td>\n",
              "      <td>...</td>\n",
              "      <td>...</td>\n",
              "      <td>...</td>\n",
              "      <td>...</td>\n",
              "      <td>...</td>\n",
              "      <td>...</td>\n",
              "    </tr>\n",
              "    <tr>\n",
              "      <th>7268</th>\n",
              "      <td>Zimbabwe</td>\n",
              "      <td>ZWE</td>\n",
              "      <td>2015</td>\n",
              "      <td>NaN</td>\n",
              "      <td>1439.0</td>\n",
              "      <td>754.0</td>\n",
              "      <td>215.0</td>\n",
              "      <td>3019.0</td>\n",
              "      <td>2518.0</td>\n",
              "      <td>770.0</td>\n",
              "      <td>...</td>\n",
              "      <td>2108.0</td>\n",
              "      <td>381.0</td>\n",
              "      <td>2990.0</td>\n",
              "      <td>NaN</td>\n",
              "      <td>2373.0</td>\n",
              "      <td>2751.0</td>\n",
              "      <td>1956.0</td>\n",
              "      <td>4202.0</td>\n",
              "      <td>632.0</td>\n",
              "      <td>146.0</td>\n",
              "    </tr>\n",
              "    <tr>\n",
              "      <th>7269</th>\n",
              "      <td>Zimbabwe</td>\n",
              "      <td>ZWE</td>\n",
              "      <td>2016</td>\n",
              "      <td>NaN</td>\n",
              "      <td>1457.0</td>\n",
              "      <td>767.0</td>\n",
              "      <td>219.0</td>\n",
              "      <td>3056.0</td>\n",
              "      <td>2050.0</td>\n",
              "      <td>801.0</td>\n",
              "      <td>...</td>\n",
              "      <td>2160.0</td>\n",
              "      <td>393.0</td>\n",
              "      <td>3027.0</td>\n",
              "      <td>NaN</td>\n",
              "      <td>2436.0</td>\n",
              "      <td>2788.0</td>\n",
              "      <td>1962.0</td>\n",
              "      <td>4264.0</td>\n",
              "      <td>648.0</td>\n",
              "      <td>146.0</td>\n",
              "    </tr>\n",
              "    <tr>\n",
              "      <th>7270</th>\n",
              "      <td>Zimbabwe</td>\n",
              "      <td>ZWE</td>\n",
              "      <td>2017</td>\n",
              "      <td>NaN</td>\n",
              "      <td>1460.0</td>\n",
              "      <td>781.0</td>\n",
              "      <td>223.0</td>\n",
              "      <td>2990.0</td>\n",
              "      <td>2116.0</td>\n",
              "      <td>818.0</td>\n",
              "      <td>...</td>\n",
              "      <td>2196.0</td>\n",
              "      <td>398.0</td>\n",
              "      <td>2962.0</td>\n",
              "      <td>0.0</td>\n",
              "      <td>2473.0</td>\n",
              "      <td>2818.0</td>\n",
              "      <td>2007.0</td>\n",
              "      <td>4342.0</td>\n",
              "      <td>654.0</td>\n",
              "      <td>144.0</td>\n",
              "    </tr>\n",
              "    <tr>\n",
              "      <th>7271</th>\n",
              "      <td>Zimbabwe</td>\n",
              "      <td>ZWE</td>\n",
              "      <td>2018</td>\n",
              "      <td>NaN</td>\n",
              "      <td>1450.0</td>\n",
              "      <td>795.0</td>\n",
              "      <td>227.0</td>\n",
              "      <td>2918.0</td>\n",
              "      <td>2088.0</td>\n",
              "      <td>825.0</td>\n",
              "      <td>...</td>\n",
              "      <td>2240.0</td>\n",
              "      <td>400.0</td>\n",
              "      <td>2890.0</td>\n",
              "      <td>NaN</td>\n",
              "      <td>2509.0</td>\n",
              "      <td>2849.0</td>\n",
              "      <td>2030.0</td>\n",
              "      <td>4377.0</td>\n",
              "      <td>657.0</td>\n",
              "      <td>139.0</td>\n",
              "    </tr>\n",
              "    <tr>\n",
              "      <th>7272</th>\n",
              "      <td>Zimbabwe</td>\n",
              "      <td>ZWE</td>\n",
              "      <td>2019</td>\n",
              "      <td>NaN</td>\n",
              "      <td>1450.0</td>\n",
              "      <td>812.0</td>\n",
              "      <td>232.0</td>\n",
              "      <td>2884.0</td>\n",
              "      <td>2068.0</td>\n",
              "      <td>827.0</td>\n",
              "      <td>...</td>\n",
              "      <td>2292.0</td>\n",
              "      <td>405.0</td>\n",
              "      <td>2855.0</td>\n",
              "      <td>NaN</td>\n",
              "      <td>2554.0</td>\n",
              "      <td>2891.0</td>\n",
              "      <td>2065.0</td>\n",
              "      <td>4437.0</td>\n",
              "      <td>662.0</td>\n",
              "      <td>136.0</td>\n",
              "    </tr>\n",
              "  </tbody>\n",
              "</table>\n",
              "<p>7273 rows × 36 columns</p>\n",
              "</div>\n",
              "      <button class=\"colab-df-convert\" onclick=\"convertToInteractive('df-16833f86-a24d-430f-bf23-8f2357555063')\"\n",
              "              title=\"Convert this dataframe to an interactive table.\"\n",
              "              style=\"display:none;\">\n",
              "        \n",
              "  <svg xmlns=\"http://www.w3.org/2000/svg\" height=\"24px\"viewBox=\"0 0 24 24\"\n",
              "       width=\"24px\">\n",
              "    <path d=\"M0 0h24v24H0V0z\" fill=\"none\"/>\n",
              "    <path d=\"M18.56 5.44l.94 2.06.94-2.06 2.06-.94-2.06-.94-.94-2.06-.94 2.06-2.06.94zm-11 1L8.5 8.5l.94-2.06 2.06-.94-2.06-.94L8.5 2.5l-.94 2.06-2.06.94zm10 10l.94 2.06.94-2.06 2.06-.94-2.06-.94-.94-2.06-.94 2.06-2.06.94z\"/><path d=\"M17.41 7.96l-1.37-1.37c-.4-.4-.92-.59-1.43-.59-.52 0-1.04.2-1.43.59L10.3 9.45l-7.72 7.72c-.78.78-.78 2.05 0 2.83L4 21.41c.39.39.9.59 1.41.59.51 0 1.02-.2 1.41-.59l7.78-7.78 2.81-2.81c.8-.78.8-2.07 0-2.86zM5.41 20L4 18.59l7.72-7.72 1.47 1.35L5.41 20z\"/>\n",
              "  </svg>\n",
              "      </button>\n",
              "      \n",
              "  <style>\n",
              "    .colab-df-container {\n",
              "      display:flex;\n",
              "      flex-wrap:wrap;\n",
              "      gap: 12px;\n",
              "    }\n",
              "\n",
              "    .colab-df-convert {\n",
              "      background-color: #E8F0FE;\n",
              "      border: none;\n",
              "      border-radius: 50%;\n",
              "      cursor: pointer;\n",
              "      display: none;\n",
              "      fill: #1967D2;\n",
              "      height: 32px;\n",
              "      padding: 0 0 0 0;\n",
              "      width: 32px;\n",
              "    }\n",
              "\n",
              "    .colab-df-convert:hover {\n",
              "      background-color: #E2EBFA;\n",
              "      box-shadow: 0px 1px 2px rgba(60, 64, 67, 0.3), 0px 1px 3px 1px rgba(60, 64, 67, 0.15);\n",
              "      fill: #174EA6;\n",
              "    }\n",
              "\n",
              "    [theme=dark] .colab-df-convert {\n",
              "      background-color: #3B4455;\n",
              "      fill: #D2E3FC;\n",
              "    }\n",
              "\n",
              "    [theme=dark] .colab-df-convert:hover {\n",
              "      background-color: #434B5C;\n",
              "      box-shadow: 0px 1px 3px 1px rgba(0, 0, 0, 0.15);\n",
              "      filter: drop-shadow(0px 1px 2px rgba(0, 0, 0, 0.3));\n",
              "      fill: #FFFFFF;\n",
              "    }\n",
              "  </style>\n",
              "\n",
              "      <script>\n",
              "        const buttonEl =\n",
              "          document.querySelector('#df-16833f86-a24d-430f-bf23-8f2357555063 button.colab-df-convert');\n",
              "        buttonEl.style.display =\n",
              "          google.colab.kernel.accessAllowed ? 'block' : 'none';\n",
              "\n",
              "        async function convertToInteractive(key) {\n",
              "          const element = document.querySelector('#df-16833f86-a24d-430f-bf23-8f2357555063');\n",
              "          const dataTable =\n",
              "            await google.colab.kernel.invokeFunction('convertToInteractive',\n",
              "                                                     [key], {});\n",
              "          if (!dataTable) return;\n",
              "\n",
              "          const docLinkHtml = 'Like what you see? Visit the ' +\n",
              "            '<a target=\"_blank\" href=https://colab.research.google.com/notebooks/data_table.ipynb>data table notebook</a>'\n",
              "            + ' to learn more about interactive tables.';\n",
              "          element.innerHTML = '';\n",
              "          dataTable['output_type'] = 'display_data';\n",
              "          await google.colab.output.renderOutput(dataTable, element);\n",
              "          const docLink = document.createElement('div');\n",
              "          docLink.innerHTML = docLinkHtml;\n",
              "          element.appendChild(docLink);\n",
              "        }\n",
              "      </script>\n",
              "    </div>\n",
              "  </div>\n",
              "  "
            ],
            "text/plain": [
              "           Entity Code  Year Number of executions (Amnesty International)  \\\n",
              "0     Afghanistan  AFG  2007                                           15   \n",
              "1     Afghanistan  AFG  2008                                           17   \n",
              "2     Afghanistan  AFG  2009                                            0   \n",
              "3     Afghanistan  AFG  2011                                            2   \n",
              "4     Afghanistan  AFG  2012                                           14   \n",
              "...           ...  ...   ...                                          ...   \n",
              "7268     Zimbabwe  ZWE  2015                                          NaN   \n",
              "7269     Zimbabwe  ZWE  2016                                          NaN   \n",
              "7270     Zimbabwe  ZWE  2017                                          NaN   \n",
              "7271     Zimbabwe  ZWE  2018                                          NaN   \n",
              "7272     Zimbabwe  ZWE  2019                                          NaN   \n",
              "\n",
              "      Deaths - Meningitis - Sex: Both - Age: All Ages (Number)  \\\n",
              "0                                                2933.0          \n",
              "1                                                2731.0          \n",
              "2                                                2460.0          \n",
              "3                                                2327.0          \n",
              "4                                                2254.0          \n",
              "...                                                 ...          \n",
              "7268                                             1439.0          \n",
              "7269                                             1457.0          \n",
              "7270                                             1460.0          \n",
              "7271                                             1450.0          \n",
              "7272                                             1450.0          \n",
              "\n",
              "      Deaths - Alzheimer's disease and other dementias - Sex: Both - Age: All Ages (Number)  \\\n",
              "0                                                1402.0                                       \n",
              "1                                                1424.0                                       \n",
              "2                                                1449.0                                       \n",
              "3                                                1508.0                                       \n",
              "4                                                1544.0                                       \n",
              "...                                                 ...                                       \n",
              "7268                                              754.0                                       \n",
              "7269                                              767.0                                       \n",
              "7270                                              781.0                                       \n",
              "7271                                              795.0                                       \n",
              "7272                                              812.0                                       \n",
              "\n",
              "      Deaths - Parkinson's disease - Sex: Both - Age: All Ages (Number)  \\\n",
              "0                                                 450.0                   \n",
              "1                                                 455.0                   \n",
              "2                                                 460.0                   \n",
              "3                                                 473.0                   \n",
              "4                                                 482.0                   \n",
              "...                                                 ...                   \n",
              "7268                                              215.0                   \n",
              "7269                                              219.0                   \n",
              "7270                                              223.0                   \n",
              "7271                                              227.0                   \n",
              "7272                                              232.0                   \n",
              "\n",
              "      Deaths - Nutritional deficiencies - Sex: Both - Age: All Ages (Number)  \\\n",
              "0                                                2488.0                        \n",
              "1                                                2277.0                        \n",
              "2                                                2040.0                        \n",
              "3                                                1846.0                        \n",
              "4                                                1705.0                        \n",
              "...                                                 ...                        \n",
              "7268                                             3019.0                        \n",
              "7269                                             3056.0                        \n",
              "7270                                             2990.0                        \n",
              "7271                                             2918.0                        \n",
              "7272                                             2884.0                        \n",
              "\n",
              "      Deaths - Malaria - Sex: Both - Age: All Ages (Number)  \\\n",
              "0                                                 393.0       \n",
              "1                                                 255.0       \n",
              "2                                                 239.0       \n",
              "3                                                 390.0       \n",
              "4                                                  94.0       \n",
              "...                                                 ...       \n",
              "7268                                             2518.0       \n",
              "7269                                             2050.0       \n",
              "7270                                             2116.0       \n",
              "7271                                             2088.0       \n",
              "7272                                             2068.0       \n",
              "\n",
              "      Deaths - Drowning - Sex: Both - Age: All Ages (Number)  ...  \\\n",
              "0                                                2127.0       ...   \n",
              "1                                                1973.0       ...   \n",
              "2                                                1852.0       ...   \n",
              "3                                                1775.0       ...   \n",
              "4                                                1716.0       ...   \n",
              "...                                                 ...       ...   \n",
              "7268                                              770.0       ...   \n",
              "7269                                              801.0       ...   \n",
              "7270                                              818.0       ...   \n",
              "7271                                              825.0       ...   \n",
              "7272                                              827.0       ...   \n",
              "\n",
              "      Deaths - Chronic kidney disease - Sex: Both - Age: All Ages (Number)  \\\n",
              "0                                                4490.0                      \n",
              "1                                                4534.0                      \n",
              "2                                                4597.0                      \n",
              "3                                                4785.0                      \n",
              "4                                                4846.0                      \n",
              "...                                                 ...                      \n",
              "7268                                             2108.0                      \n",
              "7269                                             2160.0                      \n",
              "7270                                             2196.0                      \n",
              "7271                                             2240.0                      \n",
              "7272                                             2292.0                      \n",
              "\n",
              "      Deaths - Poisonings - Sex: Both - Age: All Ages (Number)  \\\n",
              "0                                                 513.0          \n",
              "1                                                 495.0          \n",
              "2                                                 483.0          \n",
              "3                                                 483.0          \n",
              "4                                                 482.0          \n",
              "...                                                 ...          \n",
              "7268                                              381.0          \n",
              "7269                                              393.0          \n",
              "7270                                              398.0          \n",
              "7271                                              400.0          \n",
              "7272                                              405.0          \n",
              "\n",
              "      Deaths - Protein-energy malnutrition - Sex: Both - Age: All Ages (Number)  \\\n",
              "0                                                2439.0                           \n",
              "1                                                2231.0                           \n",
              "2                                                1998.0                           \n",
              "3                                                1805.0                           \n",
              "4                                                1667.0                           \n",
              "...                                                 ...                           \n",
              "7268                                             2990.0                           \n",
              "7269                                             3027.0                           \n",
              "7270                                             2962.0                           \n",
              "7271                                             2890.0                           \n",
              "7272                                             2855.0                           \n",
              "\n",
              "      Terrorism (deaths)  \\\n",
              "0                 1199.0   \n",
              "1                 1092.0   \n",
              "2                 1065.0   \n",
              "3                 1525.0   \n",
              "4                 3521.0   \n",
              "...                  ...   \n",
              "7268                 NaN   \n",
              "7269                 NaN   \n",
              "7270                 0.0   \n",
              "7271                 NaN   \n",
              "7272                 NaN   \n",
              "\n",
              "      Deaths - Road injuries - Sex: Both - Age: All Ages (Number)  \\\n",
              "0                                                7425.0             \n",
              "1                                                7355.0             \n",
              "2                                                7290.0             \n",
              "3                                                7432.0             \n",
              "4                                                7494.0             \n",
              "...                                                 ...             \n",
              "7268                                             2373.0             \n",
              "7269                                             2436.0             \n",
              "7270                                             2473.0             \n",
              "7271                                             2509.0             \n",
              "7272                                             2554.0             \n",
              "\n",
              "      Deaths - Chronic respiratory diseases - Sex: Both - Age: All Ages (Number)  \\\n",
              "0                                                7222.0                            \n",
              "1                                                7143.0                            \n",
              "2                                                7045.0                            \n",
              "3                                                6916.0                            \n",
              "4                                                6878.0                            \n",
              "...                                                 ...                            \n",
              "7268                                             2751.0                            \n",
              "7269                                             2788.0                            \n",
              "7270                                             2818.0                            \n",
              "7271                                             2849.0                            \n",
              "7272                                             2891.0                            \n",
              "\n",
              "      Deaths - Cirrhosis and other chronic liver diseases - Sex: Both - Age: All Ages (Number)  \\\n",
              "0                                                3346.0                                          \n",
              "1                                                3316.0                                          \n",
              "2                                                3291.0                                          \n",
              "3                                                3318.0                                          \n",
              "4                                                3353.0                                          \n",
              "...                                                 ...                                          \n",
              "7268                                             1956.0                                          \n",
              "7269                                             1962.0                                          \n",
              "7270                                             2007.0                                          \n",
              "7271                                             2030.0                                          \n",
              "7272                                             2065.0                                          \n",
              "\n",
              "      Deaths - Digestive diseases - Sex: Both - Age: All Ages (Number)  \\\n",
              "0                                                6458.0                  \n",
              "1                                                6408.0                  \n",
              "2                                                6358.0                  \n",
              "3                                                6370.0                  \n",
              "4                                                6398.0                  \n",
              "...                                                 ...                  \n",
              "7268                                             4202.0                  \n",
              "7269                                             4264.0                  \n",
              "7270                                             4342.0                  \n",
              "7271                                             4377.0                  \n",
              "7272                                             4437.0                  \n",
              "\n",
              "      Deaths - Fire, heat, and hot substances - Sex: Both - Age: All Ages (Number)  \\\n",
              "0                                                 481.0                              \n",
              "1                                                 462.0                              \n",
              "2                                                 448.0                              \n",
              "3                                                 448.0                              \n",
              "4                                                 445.0                              \n",
              "...                                                 ...                              \n",
              "7268                                              632.0                              \n",
              "7269                                              648.0                              \n",
              "7270                                              654.0                              \n",
              "7271                                              657.0                              \n",
              "7272                                              662.0                              \n",
              "\n",
              "      Deaths - Acute hepatitis - Sex: Both - Age: All Ages (Number)  \n",
              "0                                                3437.0              \n",
              "1                                                3005.0              \n",
              "2                                                2663.0              \n",
              "3                                                2365.0              \n",
              "4                                                2264.0              \n",
              "...                                                 ...              \n",
              "7268                                              146.0              \n",
              "7269                                              146.0              \n",
              "7270                                              144.0              \n",
              "7271                                              139.0              \n",
              "7272                                              136.0              \n",
              "\n",
              "[7273 rows x 36 columns]"
            ]
          },
          "execution_count": 11,
          "metadata": {},
          "output_type": "execute_result"
        }
      ],
      "source": [
        "# view the dataset\n",
        "cancer_data"
      ]
    },
    {
      "cell_type": "markdown",
      "metadata": {
        "id": "3wmGqcS8W6IL"
      },
      "source": [
        "## 4 Limpieza de datos"
      ]
    },
    {
      "cell_type": "markdown",
      "metadata": {
        "id": "bU8WxLMZXN_x"
      },
      "source": [
        "### 4.1. Remoción de las lecturas cero de la variable objetivo\n",
        "Como se se mencionó anteriormente al analizar la variable objetivo, se observó que existes muchas lecturas de valor cero para la variable objetivo (Deaths - Meningitis - Sex: Both - Age: All Ages (Number)). Debido a esto se opta por eliminar las filas que contengan un valor cero para la variable objetivo ya que esto indica que no se tiene una disponibilidad de la medición y estos no podrían utilizarse para entrenar."
      ]
    },
    {
      "cell_type": "code",
      "execution_count": 24,
      "metadata": {
        "colab": {
          "base_uri": "https://localhost:8080/"
        },
        "id": "6q5wt_jvW-XJ",
        "outputId": "3ebf1a8f-d3b5-4b7f-cf17-0042f30f1408"
      },
      "outputs": [
        {
          "name": "stdout",
          "output_type": "stream",
          "text": [
            "Nuevo tamaño de los datos:  (6957, 34)\n"
          ]
        }
      ],
      "source": [
        "death_cancer_zero = list(cancer_data[cancer_data['Deaths - Meningitis - Sex: Both - Age: All Ages (Number)'] == 0].index) #lista con los indices de los valores que tienen lecturas 0\n",
        "cancer_data.drop(death_cancer_zero, axis = 0, inplace = True) #eliminar filas con lecturas cero en la variable objetivo\n",
        "print('Nuevo tamaño de los datos: ',cancer_data.shape)"
      ]
    },
    {
      "cell_type": "markdown",
      "metadata": {
        "id": "Wq91OGS3Y1xP"
      },
      "source": [
        "### 4.2. Eliminación de las columnas con muchos datos faltantes"
      ]
    },
    {
      "cell_type": "markdown",
      "metadata": {
        "id": "hsD6MqPgY8fT"
      },
      "source": [
        "Del análisis exploratorio de las variables, se encontró que existen variables que contienen gran cantidad de datos faltantes. En este caso se optará por eliminar las columnas en las que los datos faltantes representen el 50% o más de la totalidad de los datos."
      ]
    },
    {
      "cell_type": "code",
      "execution_count": 25,
      "metadata": {
        "colab": {
          "base_uri": "https://localhost:8080/"
        },
        "id": "ZKOUS_2eY73P",
        "outputId": "b871fe08-063a-4c98-c106-8ca7eff7c679"
      },
      "outputs": [
        {
          "name": "stdout",
          "output_type": "stream",
          "text": [
            "New Shape of cancer_data Data: (6957, 34)\n"
          ]
        }
      ],
      "source": [
        "criterio = len(cancer_data) * 0.5 #criterio para eliminar la columna (50% de las filas que se tienen)\n",
        "cancer_data.dropna(axis=1, thresh = criterio, inplace = True) #eliminación de las columnas con 50% o más de datos faltantes\n",
        "print('New Shape of cancer_data Data:',cancer_data.shape)"
      ]
    },
    {
      "cell_type": "markdown",
      "metadata": {
        "id": "2SQ5wtY8ZZ4U"
      },
      "source": [
        "### 4.3 relleno de datos faltantes"
      ]
    },
    {
      "cell_type": "markdown",
      "metadata": {
        "id": "ZnDcnsmTZfNM"
      },
      "source": [
        "Anteriormente se optó por eliminar las columnas que poseian el 50% o más en datos en datos faltantes, sin embargo, aun quedan variables con datos faltantes en el dataset. Para estas columnas se rellenaran los valores faltantes al reemplazarlos por la media de los valores con los que se cuenta para cada columna, primero conoceremos quienes son:"
      ]
    },
    {
      "cell_type": "code",
      "execution_count": 26,
      "metadata": {
        "colab": {
          "base_uri": "https://localhost:8080/"
        },
        "id": "fPFeZ6XTZnXc",
        "outputId": "cc0b812e-28a3-490e-a78b-0222b169e1ec"
      },
      "outputs": [
        {
          "data": {
            "text/plain": [
              "Entity                                                                                         0\n",
              "Code                                                                                        1067\n",
              "Year                                                                                           0\n",
              "Deaths - Meningitis - Sex: Both - Age: All Ages (Number)                                     433\n",
              "Deaths - Alzheimer's disease and other dementias - Sex: Both - Age: All Ages (Number)        433\n",
              "Deaths - Parkinson's disease - Sex: Both - Age: All Ages (Number)                            433\n",
              "Deaths - Nutritional deficiencies - Sex: Both - Age: All Ages (Number)                       433\n",
              "Deaths - Malaria - Sex: Both - Age: All Ages (Number)                                        433\n",
              "Deaths - Drowning - Sex: Both - Age: All Ages (Number)                                       433\n",
              "Deaths - Interpersonal violence - Sex: Both - Age: All Ages (Number)                         433\n",
              "Deaths - Maternal disorders - Sex: Both - Age: All Ages (Number)                             433\n",
              "Deaths - HIV/AIDS - Sex: Both - Age: All Ages (Number)                                       433\n",
              "Deaths - Drug use disorders - Sex: Both - Age: All Ages (Number)                             433\n",
              "Deaths - Tuberculosis - Sex: Both - Age: All Ages (Number)                                   433\n",
              "Deaths - Cardiovascular diseases - Sex: Both - Age: All Ages (Number)                        433\n",
              "Deaths - Lower respiratory infections - Sex: Both - Age: All Ages (Number)                   433\n",
              "Deaths - Neonatal disorders - Sex: Both - Age: All Ages (Number)                             433\n",
              "Deaths - Alcohol use disorders - Sex: Both - Age: All Ages (Number)                          433\n",
              "Deaths - Self-harm - Sex: Both - Age: All Ages (Number)                                      433\n",
              "Deaths - Exposure to forces of nature - Sex: Both - Age: All Ages (Number)                   433\n",
              "Deaths - Diarrheal diseases - Sex: Both - Age: All Ages (Number)                             433\n",
              "Deaths - Environmental heat and cold exposure - Sex: Both - Age: All Ages (Number)           433\n",
              "Deaths - Neoplasms - Sex: Both - Age: All Ages (Number)                                      433\n",
              "Deaths - Conflict and terrorism - Sex: Both - Age: All Ages (Number)                         433\n",
              "Deaths - Diabetes mellitus - Sex: Both - Age: All Ages (Number)                              433\n",
              "Deaths - Chronic kidney disease - Sex: Both - Age: All Ages (Number)                         433\n",
              "Deaths - Poisonings - Sex: Both - Age: All Ages (Number)                                     433\n",
              "Deaths - Protein-energy malnutrition - Sex: Both - Age: All Ages (Number)                    433\n",
              "Deaths - Road injuries - Sex: Both - Age: All Ages (Number)                                  433\n",
              "Deaths - Chronic respiratory diseases - Sex: Both - Age: All Ages (Number)                   433\n",
              "Deaths - Cirrhosis and other chronic liver diseases - Sex: Both - Age: All Ages (Number)     433\n",
              "Deaths - Digestive diseases - Sex: Both - Age: All Ages (Number)                             433\n",
              "Deaths - Fire, heat, and hot substances - Sex: Both - Age: All Ages (Number)                 433\n",
              "Deaths - Acute hepatitis - Sex: Both - Age: All Ages (Number)                                433\n",
              "dtype: int64"
            ]
          },
          "execution_count": 26,
          "metadata": {},
          "output_type": "execute_result"
        }
      ],
      "source": [
        "cancer_data.isnull().sum()"
      ]
    },
    {
      "cell_type": "code",
      "execution_count": 36,
      "metadata": {
        "id": "CzCyQ6bcZ27d"
      },
      "outputs": [],
      "source": [
        "cancer_data['Deaths - Meningitis - Sex: Both - Age: All Ages (Number)'].fillna(cancer_data['Deaths - Meningitis - Sex: Both - Age: All Ages (Number)'].median(), inplace=True)\n",
        "cancer_data[\"Deaths - Alzheimer's disease and other dementias - Sex: Both - Age: All Ages (Number)\"].fillna(cancer_data[\"Deaths - Alzheimer's disease and other dementias - Sex: Both - Age: All Ages (Number)\"].median(), inplace=True)\n",
        "cancer_data[\"Deaths - Parkinson's disease - Sex: Both - Age: All Ages (Number)\"].fillna(cancer_data[\"Deaths - Parkinson's disease - Sex: Both - Age: All Ages (Number)\"].median(), inplace=True)\n",
        "cancer_data[\"Deaths - Nutritional deficiencies - Sex: Both - Age: All Ages (Number)\"].fillna(cancer_data[\"Deaths - Nutritional deficiencies - Sex: Both - Age: All Ages (Number)\"].median(), inplace=True)\n",
        "cancer_data[\"Deaths - Malaria - Sex: Both - Age: All Ages (Number)\"].fillna(cancer_data[\"Deaths - Malaria - Sex: Both - Age: All Ages (Number)\"].median(), inplace=True)\n",
        "cancer_data[\"Deaths - Drowning - Sex: Both - Age: All Ages (Number)\"].fillna(cancer_data[\"Deaths - Drowning - Sex: Both - Age: All Ages (Number)\"].median(), inplace=True)\n",
        "cancer_data[\"Deaths - Interpersonal violence - Sex: Both - Age: All Ages (Number)\"].fillna(cancer_data[\"Deaths - Interpersonal violence - Sex: Both - Age: All Ages (Number)\"].median(), inplace=True)\n",
        "cancer_data[\"Deaths - Maternal disorders - Sex: Both - Age: All Ages (Number)\"].fillna(cancer_data[\"Deaths - Maternal disorders - Sex: Both - Age: All Ages (Number)\"].median(), inplace=True)\n",
        "cancer_data[\"Deaths - HIV/AIDS - Sex: Both - Age: All Ages (Number)\"].fillna(cancer_data[\"Deaths - HIV/AIDS - Sex: Both - Age: All Ages (Number)\"].median(), inplace=True)\n",
        "cancer_data[\"Deaths - Drug use disorders - Sex: Both - Age: All Ages (Number)\"].fillna(cancer_data[\"Deaths - Drug use disorders - Sex: Both - Age: All Ages (Number)\"].median(), inplace=True)\n",
        "cancer_data[\"Deaths - Tuberculosis - Sex: Both - Age: All Ages (Number)\"].fillna(cancer_data[\"Deaths - Tuberculosis - Sex: Both - Age: All Ages (Number)\"].median(), inplace=True)\n",
        "cancer_data[\"Deaths - Cardiovascular diseases - Sex: Both - Age: All Ages (Number)\"].fillna(cancer_data[\"Deaths - Cardiovascular diseases - Sex: Both - Age: All Ages (Number)\"].median(), inplace=True)\n",
        "cancer_data[\"Deaths - Lower respiratory infections - Sex: Both - Age: All Ages (Number)\"].fillna(cancer_data[\"Deaths - Lower respiratory infections - Sex: Both - Age: All Ages (Number)\"].median(), inplace=True)\n",
        "cancer_data[\"Deaths - Neonatal disorders - Sex: Both - Age: All Ages (Number)\"].fillna(cancer_data[\"Deaths - Neonatal disorders - Sex: Both - Age: All Ages (Number)\"].median(), inplace=True)\n",
        "cancer_data[\"Deaths - Alcohol use disorders - Sex: Both - Age: All Ages (Number)\"].fillna(cancer_data[\"Deaths - Alcohol use disorders - Sex: Both - Age: All Ages (Number)\"].median(), inplace=True)\n",
        "cancer_data[\"Deaths - Self-harm - Sex: Both - Age: All Ages (Number)\"].fillna(cancer_data[\"Deaths - Self-harm - Sex: Both - Age: All Ages (Number)\"].median(), inplace=True)\n",
        "cancer_data[\"Deaths - Exposure to forces of nature - Sex: Both - Age: All Ages (Number)\"].fillna(cancer_data[\"Deaths - Exposure to forces of nature - Sex: Both - Age: All Ages (Number)\"].median(), inplace=True)\n",
        "cancer_data[\"Deaths - Diarrheal diseases - Sex: Both - Age: All Ages (Number)\"].fillna(cancer_data[\"Deaths - Diarrheal diseases - Sex: Both - Age: All Ages (Number)\"].median(), inplace=True)\n",
        "cancer_data[\"Deaths - Environmental heat and cold exposure - Sex: Both - Age: All Ages (Number)\"].fillna(cancer_data[\"Deaths - Environmental heat and cold exposure - Sex: Both - Age: All Ages (Number)\"].median(), inplace=True)\n",
        "cancer_data[\"Deaths - Neoplasms - Sex: Both - Age: All Ages (Number)\"].fillna(cancer_data[\"Deaths - Neoplasms - Sex: Both - Age: All Ages (Number)\"].median(), inplace=True)\n",
        "cancer_data[\"Deaths - Conflict and terrorism - Sex: Both - Age: All Ages (Number)\"].fillna(cancer_data[\"Deaths - Conflict and terrorism - Sex: Both - Age: All Ages (Number)\"].median(), inplace=True)\n",
        "cancer_data[\"Deaths - Diabetes mellitus - Sex: Both - Age: All Ages (Number)\"].fillna(cancer_data[\"Deaths - Diabetes mellitus - Sex: Both - Age: All Ages (Number)\"].median(), inplace=True)\n",
        "cancer_data[\"Deaths - Chronic kidney disease - Sex: Both - Age: All Ages (Number)\"].fillna(cancer_data[\"Deaths - Chronic kidney disease - Sex: Both - Age: All Ages (Number)\"].median(), inplace=True)\n",
        "cancer_data[\"Deaths - Poisonings - Sex: Both - Age: All Ages (Number)\"].fillna(cancer_data[\"Deaths - Poisonings - Sex: Both - Age: All Ages (Number)\"].median(), inplace=True)\n",
        "cancer_data[\"Deaths - Protein-energy malnutrition - Sex: Both - Age: All Ages (Number)\"].fillna(cancer_data[\"Deaths - Protein-energy malnutrition - Sex: Both - Age: All Ages (Number)\"].median(), inplace=True)\n",
        "cancer_data[\"Deaths - Road injuries - Sex: Both - Age: All Ages (Number)\"].fillna(cancer_data[\"Deaths - Road injuries - Sex: Both - Age: All Ages (Number)\"].median(), inplace=True)\n",
        "cancer_data[\"Deaths - Chronic respiratory diseases - Sex: Both - Age: All Ages (Number)\"].fillna(cancer_data[\"Deaths - Chronic respiratory diseases - Sex: Both - Age: All Ages (Number)\"].median(), inplace=True)\n",
        "cancer_data[\"Deaths - Cirrhosis and other chronic liver diseases - Sex: Both - Age: All Ages (Number)\"].fillna(cancer_data[\"Deaths - Cirrhosis and other chronic liver diseases - Sex: Both - Age: All Ages (Number)\"].median(), inplace=True)\n",
        "cancer_data[\"Deaths - Digestive diseases - Sex: Both - Age: All Ages (Number)\"].fillna(cancer_data[\"Deaths - Digestive diseases - Sex: Both - Age: All Ages (Number)\"].median(), inplace=True)\n",
        "cancer_data[\"Deaths - Fire, heat, and hot substances - Sex: Both - Age: All Ages (Number)\"].fillna(cancer_data[\"Deaths - Fire, heat, and hot substances - Sex: Both - Age: All Ages (Number)\"].median(), inplace=True)\n",
        "cancer_data[\"Deaths - Acute hepatitis - Sex: Both - Age: All Ages (Number)\"].fillna(cancer_data[\"Deaths - Acute hepatitis - Sex: Both - Age: All Ages (Number)\"].median(), inplace=True)"
      ]
    },
    {
      "cell_type": "code",
      "execution_count": 37,
      "metadata": {
        "colab": {
          "base_uri": "https://localhost:8080/"
        },
        "id": "RWbco56saYg7",
        "outputId": "15d58cf8-3e85-4be5-cb16-ab42c924d340"
      },
      "outputs": [
        {
          "data": {
            "text/plain": [
              "Entity                                                                                         0\n",
              "Code                                                                                        1067\n",
              "Year                                                                                           0\n",
              "Deaths - Meningitis - Sex: Both - Age: All Ages (Number)                                       0\n",
              "Deaths - Alzheimer's disease and other dementias - Sex: Both - Age: All Ages (Number)          0\n",
              "Deaths - Parkinson's disease - Sex: Both - Age: All Ages (Number)                              0\n",
              "Deaths - Nutritional deficiencies - Sex: Both - Age: All Ages (Number)                         0\n",
              "Deaths - Malaria - Sex: Both - Age: All Ages (Number)                                          0\n",
              "Deaths - Drowning - Sex: Both - Age: All Ages (Number)                                         0\n",
              "Deaths - Interpersonal violence - Sex: Both - Age: All Ages (Number)                           0\n",
              "Deaths - Maternal disorders - Sex: Both - Age: All Ages (Number)                               0\n",
              "Deaths - HIV/AIDS - Sex: Both - Age: All Ages (Number)                                         0\n",
              "Deaths - Drug use disorders - Sex: Both - Age: All Ages (Number)                               0\n",
              "Deaths - Tuberculosis - Sex: Both - Age: All Ages (Number)                                     0\n",
              "Deaths - Cardiovascular diseases - Sex: Both - Age: All Ages (Number)                          0\n",
              "Deaths - Lower respiratory infections - Sex: Both - Age: All Ages (Number)                     0\n",
              "Deaths - Neonatal disorders - Sex: Both - Age: All Ages (Number)                               0\n",
              "Deaths - Alcohol use disorders - Sex: Both - Age: All Ages (Number)                            0\n",
              "Deaths - Self-harm - Sex: Both - Age: All Ages (Number)                                        0\n",
              "Deaths - Exposure to forces of nature - Sex: Both - Age: All Ages (Number)                     0\n",
              "Deaths - Diarrheal diseases - Sex: Both - Age: All Ages (Number)                               0\n",
              "Deaths - Environmental heat and cold exposure - Sex: Both - Age: All Ages (Number)             0\n",
              "Deaths - Neoplasms - Sex: Both - Age: All Ages (Number)                                        0\n",
              "Deaths - Conflict and terrorism - Sex: Both - Age: All Ages (Number)                           0\n",
              "Deaths - Diabetes mellitus - Sex: Both - Age: All Ages (Number)                                0\n",
              "Deaths - Chronic kidney disease - Sex: Both - Age: All Ages (Number)                           0\n",
              "Deaths - Poisonings - Sex: Both - Age: All Ages (Number)                                       0\n",
              "Deaths - Protein-energy malnutrition - Sex: Both - Age: All Ages (Number)                      0\n",
              "Deaths - Road injuries - Sex: Both - Age: All Ages (Number)                                    0\n",
              "Deaths - Chronic respiratory diseases - Sex: Both - Age: All Ages (Number)                     0\n",
              "Deaths - Cirrhosis and other chronic liver diseases - Sex: Both - Age: All Ages (Number)       0\n",
              "Deaths - Digestive diseases - Sex: Both - Age: All Ages (Number)                               0\n",
              "Deaths - Fire, heat, and hot substances - Sex: Both - Age: All Ages (Number)                   0\n",
              "Deaths - Acute hepatitis - Sex: Both - Age: All Ages (Number)                                  0\n",
              "dtype: int64"
            ]
          },
          "execution_count": 37,
          "metadata": {},
          "output_type": "execute_result"
        }
      ],
      "source": [
        "cancer_data.isnull().sum()"
      ]
    },
    {
      "cell_type": "markdown",
      "metadata": {
        "id": "RSgJgUTBq4NT"
      },
      "source": [
        "### 4.4. Transformación de las variables categoricas\n"
      ]
    },
    {
      "cell_type": "markdown",
      "metadata": {
        "id": "Wc3ESmqTq8xs"
      },
      "source": [
        "Las variables categoricas, como lo son en este caso \"Entity\" pueden ser utiles a la hora de realizar el análisis, sin embargo, no pueden ser usadas en la forma categorica, por lo que se deben convertir en variables numericas que si podamos utilzar para entrenar un modelo."
      ]
    },
    {
      "cell_type": "code",
      "execution_count": 38,
      "metadata": {
        "colab": {
          "base_uri": "https://localhost:8080/"
        },
        "id": "yGKJyjOBr6U7",
        "outputId": "2c6fb6cc-9959-4fc1-876d-0d3e73c3be68"
      },
      "outputs": [
        {
          "name": "stdout",
          "output_type": "stream",
          "text": [
            "<class 'pandas.core.frame.DataFrame'>\n",
            "Int64Index: 6957 entries, 0 to 7272\n",
            "Data columns (total 34 columns):\n",
            " #   Column                                                                                    Non-Null Count  Dtype  \n",
            "---  ------                                                                                    --------------  -----  \n",
            " 0   Entity                                                                                    6957 non-null   int64  \n",
            " 1   Code                                                                                      5890 non-null   object \n",
            " 2   Year                                                                                      6957 non-null   int64  \n",
            " 3   Deaths - Meningitis - Sex: Both - Age: All Ages (Number)                                  6957 non-null   float64\n",
            " 4   Deaths - Alzheimer's disease and other dementias - Sex: Both - Age: All Ages (Number)     6957 non-null   float64\n",
            " 5   Deaths - Parkinson's disease - Sex: Both - Age: All Ages (Number)                         6957 non-null   float64\n",
            " 6   Deaths - Nutritional deficiencies - Sex: Both - Age: All Ages (Number)                    6957 non-null   float64\n",
            " 7   Deaths - Malaria - Sex: Both - Age: All Ages (Number)                                     6957 non-null   float64\n",
            " 8   Deaths - Drowning - Sex: Both - Age: All Ages (Number)                                    6957 non-null   float64\n",
            " 9   Deaths - Interpersonal violence - Sex: Both - Age: All Ages (Number)                      6957 non-null   float64\n",
            " 10  Deaths - Maternal disorders - Sex: Both - Age: All Ages (Number)                          6957 non-null   float64\n",
            " 11  Deaths - HIV/AIDS - Sex: Both - Age: All Ages (Number)                                    6957 non-null   float64\n",
            " 12  Deaths - Drug use disorders - Sex: Both - Age: All Ages (Number)                          6957 non-null   float64\n",
            " 13  Deaths - Tuberculosis - Sex: Both - Age: All Ages (Number)                                6957 non-null   float64\n",
            " 14  Deaths - Cardiovascular diseases - Sex: Both - Age: All Ages (Number)                     6957 non-null   float64\n",
            " 15  Deaths - Lower respiratory infections - Sex: Both - Age: All Ages (Number)                6957 non-null   float64\n",
            " 16  Deaths - Neonatal disorders - Sex: Both - Age: All Ages (Number)                          6957 non-null   float64\n",
            " 17  Deaths - Alcohol use disorders - Sex: Both - Age: All Ages (Number)                       6957 non-null   float64\n",
            " 18  Deaths - Self-harm - Sex: Both - Age: All Ages (Number)                                   6957 non-null   float64\n",
            " 19  Deaths - Exposure to forces of nature - Sex: Both - Age: All Ages (Number)                6957 non-null   float64\n",
            " 20  Deaths - Diarrheal diseases - Sex: Both - Age: All Ages (Number)                          6957 non-null   float64\n",
            " 21  Deaths - Environmental heat and cold exposure - Sex: Both - Age: All Ages (Number)        6957 non-null   float64\n",
            " 22  Deaths - Neoplasms - Sex: Both - Age: All Ages (Number)                                   6957 non-null   float64\n",
            " 23  Deaths - Conflict and terrorism - Sex: Both - Age: All Ages (Number)                      6957 non-null   float64\n",
            " 24  Deaths - Diabetes mellitus - Sex: Both - Age: All Ages (Number)                           6957 non-null   float64\n",
            " 25  Deaths - Chronic kidney disease - Sex: Both - Age: All Ages (Number)                      6957 non-null   float64\n",
            " 26  Deaths - Poisonings - Sex: Both - Age: All Ages (Number)                                  6957 non-null   float64\n",
            " 27  Deaths - Protein-energy malnutrition - Sex: Both - Age: All Ages (Number)                 6957 non-null   float64\n",
            " 28  Deaths - Road injuries - Sex: Both - Age: All Ages (Number)                               6957 non-null   float64\n",
            " 29  Deaths - Chronic respiratory diseases - Sex: Both - Age: All Ages (Number)                6957 non-null   float64\n",
            " 30  Deaths - Cirrhosis and other chronic liver diseases - Sex: Both - Age: All Ages (Number)  6957 non-null   float64\n",
            " 31  Deaths - Digestive diseases - Sex: Both - Age: All Ages (Number)                          6957 non-null   float64\n",
            " 32  Deaths - Fire, heat, and hot substances - Sex: Both - Age: All Ages (Number)              6957 non-null   float64\n",
            " 33  Deaths - Acute hepatitis - Sex: Both - Age: All Ages (Number)                             6957 non-null   float64\n",
            "dtypes: float64(31), int64(2), object(1)\n",
            "memory usage: 1.9+ MB\n",
            "None\n"
          ]
        }
      ],
      "source": [
        "var_categoricas = ['Entity']\n",
        "encoder = preprocessing.LabelEncoder()\n",
        "\n",
        "for i in var_categoricas:\n",
        "    \n",
        "    cancer_data[i] = encoder.fit_transform(cancer_data[i])\n",
        "    \n",
        "print (cancer_data.info())"
      ]
    }
  ],
  "metadata": {
    "colab": {
      "collapsed_sections": [],
      "name": "01 - exploración de datos.ipynb",
      "provenance": [],
      "toc_visible": true
    },
    "kernelspec": {
      "display_name": "Python 3.7.8 64-bit",
      "language": "python",
      "name": "python3"
    },
    "language_info": {
      "codemirror_mode": {
        "name": "ipython",
        "version": 3
      },
      "file_extension": ".py",
      "mimetype": "text/x-python",
      "name": "python",
      "nbconvert_exporter": "python",
      "pygments_lexer": "ipython3",
      "version": "3.7.8"
    },
    "vscode": {
      "interpreter": {
        "hash": "0a54084e6b208ee8d1ce3989ffc20924477a5f55f5a43e22e699a6741623861e"
      }
    }
  },
  "nbformat": 4,
  "nbformat_minor": 0
}
